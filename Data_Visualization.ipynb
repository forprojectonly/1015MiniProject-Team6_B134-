{
 "cells": [
  {
   "attachments": {},
   "cell_type": "markdown",
   "id": "8e10467f",
   "metadata": {},
   "source": [
    "# Data Visualization after cleaning"
   ]
  },
  {
   "cell_type": "code",
   "execution_count": null,
   "id": "200e54a9",
   "metadata": {},
   "outputs": [],
   "source": [
    "import pandas as pd\n",
    "import numpy as np\n",
    "import matplotlib.pyplot as plt\n",
    "import seaborn as sns\n",
    "import plotly.subplots as sp\n",
    "import plotly.graph_objs as go\n",
    "import plotly.figure_factory as ff\n",
    "import plotly.express as px\n",
    "import plotly.offline as pyo\n",
    "\n",
    "\n",
    "from sklearn.model_selection import train_test_split\n",
    "from sklearn.metrics import mean_squared_error, r2_score\n",
    "\n",
    "# Load the dataset\n",
    "df = pd.read_csv('cleaneddf.csv')\n"
   ]
  },
  {
   "attachments": {},
   "cell_type": "markdown",
   "id": "3e7d82a3",
   "metadata": {},
   "source": [
    "## Identify relevant columns for the model"
   ]
  },
  {
   "cell_type": "code",
   "execution_count": null,
   "id": "4f617ed2",
   "metadata": {},
   "outputs": [],
   "source": [
    "# Select the relevant columns for the model\n",
    "X = df[['Danceability', 'Energy', 'Speechiness', 'Acousticness', 'Instrumentalness', 'Liveness', 'Valence','Tempo','Loudness','Likes','Duration_ms','Views','Comments','Stream']]\n",
    "X.corr()"
   ]
  },
  {
   "attachments": {},
   "cell_type": "markdown",
   "id": "04fb55be",
   "metadata": {},
   "source": [
    "## There are higher correlation between ( Likes and Views),(comments and likes),(Loudness and energy),(Stream and likes),(stream and views)"
   ]
  },
  {
   "cell_type": "code",
   "execution_count": null,
   "id": "5b7f32ca",
   "metadata": {},
   "outputs": [],
   "source": [
    "cols = ['Danceability', 'Energy', 'Speechiness', 'Acousticness', 'Instrumentalness', 'Liveness', 'Valence','Tempo','Likes','Views','Comments','Stream']\n",
    "\n",
    "features = ['Danceability', 'Energy', 'Speechiness', 'Acousticness', 'Instrumentalness', 'Liveness', 'Valence', 'Tempo']\n",
    "\n",
    "# Calculate the IQR for each feature\n",
    "Q1 = df[features].quantile(0.25)\n",
    "Q3 = df[features].quantile(0.75)\n",
    "IQR = Q3 - Q1\n",
    "\n",
    "# Remove outliers using Tukey's method\n",
    "df_clean = df[~((df[features] < (Q1 - 1.5 * IQR)) | (df[features] > (Q3 + 1.5 * IQR))).any(axis=1)]\n",
    "\n",
    "# Visualize the cleaned data using a pairplot\n",
    "sns.pairplot(df_clean[features])\n",
    "sns.pairplot(df_clean, y_vars=[\"Views\"], x_vars= features)"
   ]
  },
  {
   "cell_type": "code",
   "execution_count": null,
   "id": "26e17a23",
   "metadata": {},
   "outputs": [],
   "source": [
    "# Calculate correlations\n",
    "numeric_columns = cols\n",
    "descriptive_stats = df[numeric_columns].describe()\n",
    "correlations = df[numeric_columns].corr()\n",
    "\n",
    "# Create a correlation heatmap with custom appearance\n",
    "fig = ff.create_annotated_heatmap(\n",
    "    z=correlations.values,\n",
    "    x=numeric_columns,\n",
    "    y=numeric_columns,\n",
    "    annotation_text=correlations.round(2).values,\n",
    "    colorscale='Blackbody',\n",
    "    showscale=True,\n",
    "    hoverinfo='z'\n",
    ")\n",
    "\n",
    "# Customize the appearance\n",
    "fig.update_xaxes(title_text='Features', side='bottom')\n",
    "fig.update_yaxes(title_text='Features', side='left')\n",
    "# Update layout \n",
    "fig.update_layout(\n",
    "    title='Correlation Heatmap',\n",
    "    title_x=0.5,\n",
    "    width=1000,\n",
    "    height=800,\n",
    "    xaxis_showgrid=False,\n",
    "    yaxis_showgrid=False,\n",
    "    xaxis_zeroline=False,\n",
    "    yaxis_zeroline=False,\n",
    "    margin=dict(l=150, r=100, t=100, b=100)\n",
    ")\n",
    "\n",
    "\n",
    "# Display the heatmap using  the \n",
    "pyo.iplot(fig)"
   ]
  },
  {
   "cell_type": "code",
   "execution_count": null,
   "id": "376fcd4f",
   "metadata": {},
   "outputs": [],
   "source": [
    "numeric_cols = df.select_dtypes(include='number')\n",
    "numeric_cols.hist(bins=50, figsize=(20,15))"
   ]
  },
  {
   "attachments": {},
   "cell_type": "markdown",
   "id": "2854cdf3",
   "metadata": {},
   "source": [
    "## Relationship between performance metrics\n",
    "### Showing relation between Loudness and Views"
   ]
  },
  {
   "cell_type": "code",
   "execution_count": null,
   "id": "061bd31e",
   "metadata": {},
   "outputs": [],
   "source": [
    "plt.scatter(df['Loudness'], df['Views'], s=100, c='red', alpha=0.7, edgecolors='none')\n",
    "plt.title('Loudness vs. Views', fontsize=18)\n",
    "plt.xlabel('Loudness', fontsize=14)\n",
    "plt.ylabel('Views', fontsize=14)\n",
    "plt.tick_params(axis='both', which='major', labelsize=12)\n",
    "plt.grid(True)\n",
    "plt.show()"
   ]
  },
  {
   "attachments": {},
   "cell_type": "markdown",
   "id": "2b15bf51",
   "metadata": {},
   "source": [
    "## Showing relation between Loudness and Energy"
   ]
  },
  {
   "cell_type": "code",
   "execution_count": null,
   "id": "ab40af0e",
   "metadata": {},
   "outputs": [],
   "source": [
    "plt.scatter(df['Loudness'], df['Energy'], s=100, c='red', alpha=0.7, edgecolors='none')\n",
    "plt.title('Loudness vs. Energy', fontsize=18)\n",
    "plt.xlabel('Loudness', fontsize=14)\n",
    "plt.ylabel('Energy', fontsize=14)\n",
    "plt.tick_params(axis='both', which='major', labelsize=12)\n",
    "plt.grid(True)\n",
    "plt.show()"
   ]
  },
  {
   "attachments": {},
   "cell_type": "markdown",
   "id": "e89a26d3",
   "metadata": {},
   "source": [
    "## Showing relation between Stream and Views"
   ]
  },
  {
   "cell_type": "code",
   "execution_count": null,
   "id": "1b8ccb7b",
   "metadata": {},
   "outputs": [],
   "source": [
    "plt.scatter(df['Stream'], df['Views'], s=100, c='red', alpha=0.7, edgecolors='none')\n",
    "plt.title('Stream vs. View', fontsize=18)\n",
    "plt.xlabel('Stream', fontsize=14)\n",
    "plt.ylabel('View', fontsize=14)\n",
    "plt.tick_params(axis='both', which='major', labelsize=12)\n",
    "plt.grid(True)\n",
    "plt.show()"
   ]
  },
  {
   "attachments": {},
   "cell_type": "markdown",
   "id": "fd67c2ed",
   "metadata": {},
   "source": [
    "## showing relation between Stream and Likes"
   ]
  },
  {
   "cell_type": "code",
   "execution_count": null,
   "id": "456b51f7",
   "metadata": {},
   "outputs": [],
   "source": [
    "plt.scatter(df['Stream'], df['Likes'], s=100, c='red', alpha=0.7, edgecolors='none')\n",
    "plt.title('Stream vs. Likes', fontsize=18)\n",
    "plt.xlabel('Stream', fontsize=14)\n",
    "plt.ylabel('Likes', fontsize=14)\n",
    "plt.tick_params(axis='both', which='major', labelsize=12)\n",
    "plt.grid(True)\n",
    "plt.show()"
   ]
  },
  {
   "attachments": {},
   "cell_type": "markdown",
   "id": "f66cda35",
   "metadata": {},
   "source": [
    "## Showing relation between Views, comments,likes and stream in relation to artists"
   ]
  },
  {
   "cell_type": "code",
   "execution_count": null,
   "id": "060be6a3",
   "metadata": {},
   "outputs": [],
   "source": [
    "\n",
    "def plot_relationship(df,metric_1,metric_2):\n",
    "    # Create a scatter plot for Views vs. Likes\n",
    "    fig = px.scatter(df, x=metric_1, y=metric_2, title=f\"{metric_1} vs {metric_2}\", color=\"Artist\", hover_name='Track', hover_data=['Title', 'Channel'], opacity=0.7)\n",
    "\n",
    "    # Customize the appearance\n",
    "    fig.update_layout(xaxis_title=metric_1, yaxis_title=metric_2, xaxis_type='log', yaxis_type='log')\n",
    "    fig.update_traces(marker=dict(size=8))\n",
    "    fig.show()\n",
    "\n",
    "plot_relationship(df,\"Views\",\"Likes\")\n",
    "plot_relationship(df,\"Views\",\"Comments\")\n",
    "plot_relationship(df,\"Comments\",\"Likes\")\n",
    "plot_relationship(df,\"Stream\",\"Likes\")\n",
    "plot_relationship(df,\"Comments\",\"Stream\")\n",
    "plot_relationship(df,\"Views\",\"Stream\")"
   ]
  },
  {
   "attachments": {},
   "cell_type": "markdown",
   "id": "fd858303",
   "metadata": {},
   "source": [
    "## 1. There doesnt seem to be much correlation between the stream and view\n",
    "## 2. There is a decent correlation between loudness and energy\n",
    "## 3. There doesnt seem to be much correlation between the stream and likes\n",
    "## 4. we can see that Comments , likes and views are much closely correlated when put against the popular artists."
   ]
  }
 ],
 "metadata": {
  "kernelspec": {
   "display_name": "Python 3 (ipykernel)",
   "language": "python",
   "name": "python3"
  },
  "language_info": {
   "codemirror_mode": {
    "name": "ipython",
    "version": 3
   },
   "file_extension": ".py",
   "mimetype": "text/x-python",
   "name": "python",
   "nbconvert_exporter": "python",
   "pygments_lexer": "ipython3",
   "version": "3.9.13"
  }
 },
 "nbformat": 4,
 "nbformat_minor": 5
}
