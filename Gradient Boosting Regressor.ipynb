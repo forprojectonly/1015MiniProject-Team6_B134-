{
 "cells": [
  {
   "cell_type": "markdown",
   "id": "a7f4d055",
   "metadata": {},
   "source": [
    "# We can use GradientBoostingRegressor which allows for the optimization of arbitrary differentiable loss functions"
   ]
  },
  {
   "cell_type": "code",
   "execution_count": 5,
   "id": "d25db6cf",
   "metadata": {},
   "outputs": [
    {
     "name": "stderr",
     "output_type": "stream",
     "text": [
      "C:\\Users\\Chad\\AppData\\Local\\Temp\\ipykernel_27324\\925108007.py:22: FutureWarning:\n",
      "\n",
      "Automatic reindexing on DataFrame vs Series comparisons is deprecated and will raise ValueError in a future version. Do `left, right = left.align(right, axis=1, copy=False)` before e.g. `left == right`\n",
      "\n",
      "C:\\Users\\Chad\\AppData\\Local\\Temp\\ipykernel_27324\\925108007.py:23: FutureWarning:\n",
      "\n",
      "Dropping of nuisance columns in DataFrame reductions (with 'numeric_only=None') is deprecated; in a future version this will raise TypeError.  Select only valid columns before calling the reduction.\n",
      "\n"
     ]
    },
    {
     "data": {
      "text/plain": [
       "Unnamed: 0          -0.024627\n",
       "Danceability        -0.554416\n",
       "Energy              -0.727934\n",
       "Key                 -0.002342\n",
       "Loudness            -2.797320\n",
       "Speechiness          3.077427\n",
       "Acousticness         0.915316\n",
       "Instrumentalness     3.772123\n",
       "Liveness             2.335986\n",
       "Valence             -0.092880\n",
       "Tempo                0.387777\n",
       "Duration_ms          1.195004\n",
       "Views                9.070239\n",
       "Likes                8.573440\n",
       "Comments            42.729724\n",
       "Licensed            -0.950991\n",
       "official_video      -1.454562\n",
       "Stream               4.054457\n",
       "dtype: float64"
      ]
     },
     "execution_count": 5,
     "metadata": {},
     "output_type": "execute_result"
    }
   ],
   "source": [
    "import pandas as pd\n",
    "import numpy as np\n",
    "import matplotlib.pyplot as plt\n",
    "import seaborn as sns\n",
    "import plotly.subplots as sp\n",
    "import plotly.graph_objs as go\n",
    "import plotly.figure_factory as ff\n",
    "import plotly.express as px\n",
    "import plotly.offline as pyo\n",
    "\n",
    "\n",
    "from sklearn.ensemble import GradientBoostingRegressor\n",
    "from sklearn.model_selection import train_test_split\n",
    "from sklearn.metrics import mean_squared_error, r2_score\n",
    "\n",
    "# Load the dataset\n",
    "df = pd.read_csv('cleaneddf.csv')\n",
    "\n"
   ]
  },
  {
   "cell_type": "code",
   "execution_count": 6,
   "id": "70cc2e52",
   "metadata": {},
   "outputs": [
    {
     "name": "stdout",
     "output_type": "stream",
     "text": [
      "Gradient Boosting Regression:\n",
      "Mean Squared Error: 112653504715864.88\n",
      "R2 Score: 0.9987051296409681\n"
     ]
    }
   ],
   "source": [
    "# Select the relevant columns for the model\n",
    "X = df[['Danceability', 'Energy', 'Speechiness', 'Acousticness', 'Instrumentalness', 'Liveness', 'Valence','Tempo','Likes','Views','Comments','Stream']]\n",
    "y = df['Views']\n",
    "\n",
    "# Split the data into training and testing sets\n",
    "X_train, X_test, y_train, y_test = train_test_split(X, y, test_size=0.2, random_state=42)\n",
    "\n",
    "# Train the gradient boosting model\n",
    "gb_model = GradientBoostingRegressor(n_estimators=100, learning_rate=0.1, max_depth=10, random_state=42)\n",
    "gb_model.fit(X_train, y_train)\n",
    "\n",
    "# Make predictions on the test set\n",
    "y_pred = gb_model.predict(X_test)\n",
    "\n",
    "# Calculate the mean squared error and R2 score\n",
    "mse = mean_squared_error(y_test, y_pred)\n",
    "r2 = r2_score(y_test, y_pred)\n",
    "\n",
    "print('Gradient Boosting Regression:')\n",
    "print('Mean Squared Error:', mse)\n",
    "print('R2 Score:', r2)\n"
   ]
  },
  {
   "cell_type": "markdown",
   "id": "1869da00",
   "metadata": {},
   "source": [
    "### The results suggest that the model has a high degree of explanatory power, but may not be the best fit for the data due to the large MSE value. Therefore using this set of data for prediction purposes might not be accurate enough"
   ]
  },
  {
   "cell_type": "code",
   "execution_count": null,
   "id": "2a969c49",
   "metadata": {},
   "outputs": [],
   "source": []
  }
 ],
 "metadata": {
  "kernelspec": {
   "display_name": "Python 3 (ipykernel)",
   "language": "python",
   "name": "python3"
  },
  "language_info": {
   "codemirror_mode": {
    "name": "ipython",
    "version": 3
   },
   "file_extension": ".py",
   "mimetype": "text/x-python",
   "name": "python",
   "nbconvert_exporter": "python",
   "pygments_lexer": "ipython3",
   "version": "3.9.13"
  }
 },
 "nbformat": 4,
 "nbformat_minor": 5
}
