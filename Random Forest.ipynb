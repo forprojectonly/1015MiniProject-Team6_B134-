{
 "cells": [
  {
   "cell_type": "markdown",
   "id": "8de24480",
   "metadata": {},
   "source": [
    "## Random Forest "
   ]
  },
  {
   "cell_type": "code",
   "execution_count": 3,
   "id": "7c1b6785",
   "metadata": {},
   "outputs": [
    {
     "name": "stderr",
     "output_type": "stream",
     "text": [
      "C:\\Users\\Xinyang\\AppData\\Local\\Temp\\ipykernel_31336\\1146393209.py:11: FutureWarning: Dropping of nuisance columns in DataFrame reductions (with 'numeric_only=None') is deprecated; in a future version this will raise TypeError.  Select only valid columns before calling the reduction.\n",
      "  df.skew()\n"
     ]
    },
    {
     "data": {
      "text/plain": [
       "Unnamed: 0.1        -0.024627\n",
       "Unnamed: 0          -0.024627\n",
       "Danceability        -0.554416\n",
       "Energy              -0.727934\n",
       "Key                 -0.002342\n",
       "Loudness            -2.797320\n",
       "Speechiness          3.077427\n",
       "Acousticness         0.915316\n",
       "Instrumentalness     3.772123\n",
       "Liveness             2.335986\n",
       "Valence             -0.092880\n",
       "Tempo                0.387777\n",
       "Duration_ms          1.195004\n",
       "Views                9.070239\n",
       "Likes                8.573440\n",
       "Comments            42.729724\n",
       "Licensed            -0.950991\n",
       "official_video      -1.454562\n",
       "Stream               4.054457\n",
       "dtype: float64"
      ]
     },
     "execution_count": 3,
     "metadata": {},
     "output_type": "execute_result"
    }
   ],
   "source": [
    "#random forest\n",
    "import pandas as pd\n",
    "import numpy as np\n",
    "from sklearn.ensemble import RandomForestRegressor\n",
    "from sklearn.model_selection import train_test_split, cross_val_score\n",
    "from sklearn.metrics import mean_squared_error, r2_score, explained_variance_score, max_error, median_absolute_error\n",
    "\n",
    "# Load the dataset\n",
    "df = pd.read_csv('cleaneddf.csv')"
   ]
  },
  {
   "cell_type": "code",
   "execution_count": 5,
   "id": "c3552e81",
   "metadata": {},
   "outputs": [
    {
     "name": "stdout",
     "output_type": "stream",
     "text": [
      "Mean squared error: 197732548760391360.00\n",
      "Root mean squared error: 444671281.69\n",
      "Coefficient of determination (R^2): 0.18\n",
      "Explained variance score: 0.18\n",
      "Maximum residual error: 9130671677.54\n",
      "Median absolute error: 159719667.75\n",
      "Cross-validation RMSE scores: [4.58155054e+08 2.96259365e+08 4.42662543e+08 5.80228666e+08\n",
      " 4.51740859e+08]\n",
      "Average RMSE score (cross-validation): 445809297.49\n"
     ]
    }
   ],
   "source": [
    "\n",
    "X = df[['Danceability', 'Energy', 'Speechiness', 'Acousticness', 'Instrumentalness', 'Liveness', 'Valence', 'Tempo']]\n",
    "y = df['Likes'] + df['Views'] + df['Comments']+df['Stream']\n",
    "\n",
    "# Split into train and test sets\n",
    "X_train, X_test, y_train, y_test = train_test_split(X, y, test_size=0.2, random_state=42)\n",
    "\n",
    "# Fit the model\n",
    "rf = RandomForestRegressor(n_estimators=100, random_state=42).fit(X_train, y_train)\n",
    "\n",
    "# Predict on test set\n",
    "y_pred = rf.predict(X_test)\n",
    "\n",
    "# Evaluate the model\n",
    "print('Mean squared error: %.2f' % mean_squared_error(y_test, y_pred))\n",
    "print(\"Root mean squared error: %.2f\" % np.sqrt(mean_squared_error(y_test,y_pred)))\n",
    "print('Coefficient of determination (R^2): %.2f' % r2_score(y_test, y_pred))\n",
    "print('Explained variance score: %.2f' % explained_variance_score(y_test, y_pred))\n",
    "print('Maximum residual error: %.2f' % max_error(y_test, y_pred))\n",
    "print('Median absolute error: %.2f' % median_absolute_error(y_test, y_pred))\n",
    "\n",
    "# Evaluate using cross-validation\n",
    "cv_scores = cross_val_score(rf, X, y, cv=5, scoring='neg_mean_squared_error')\n",
    "cv_rmse_scores = np.sqrt(-cv_scores)\n",
    "print('Cross-validation RMSE scores:', cv_rmse_scores)\n",
    "print('Average RMSE score (cross-validation): %.2f' % cv_rmse_scores.mean())"
   ]
  },
  {
   "cell_type": "markdown",
   "id": "68a38315",
   "metadata": {},
   "source": [
    "### In this case, the low R-squared value suggests that the random forest model is not able to explain a significant amount of the variability in the outcome variable"
   ]
  },
  {
   "cell_type": "code",
   "execution_count": null,
   "id": "262cde26",
   "metadata": {},
   "outputs": [],
   "source": []
  }
 ],
 "metadata": {
  "kernelspec": {
   "display_name": "Python 3 (ipykernel)",
   "language": "python",
   "name": "python3"
  },
  "language_info": {
   "codemirror_mode": {
    "name": "ipython",
    "version": 3
   },
   "file_extension": ".py",
   "mimetype": "text/x-python",
   "name": "python",
   "nbconvert_exporter": "python",
   "pygments_lexer": "ipython3",
   "version": "3.9.12"
  }
 },
 "nbformat": 4,
 "nbformat_minor": 5
}
