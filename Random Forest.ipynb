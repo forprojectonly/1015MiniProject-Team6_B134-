{
 "cells": [
  {
   "cell_type": "markdown",
   "id": "8de24480",
   "metadata": {},
   "source": [
    "## Random Forest "
   ]
  },
  {
   "cell_type": "code",
   "execution_count": 2,
   "id": "7c1b6785",
   "metadata": {},
   "outputs": [
    {
     "name": "stderr",
     "output_type": "stream",
     "text": [
      "C:\\Users\\Chad\\AppData\\Local\\Temp\\ipykernel_20764\\2724871986.py:19: FutureWarning: Automatic reindexing on DataFrame vs Series comparisons is deprecated and will raise ValueError in a future version. Do `left, right = left.align(right, axis=1, copy=False)` before e.g. `left == right`\n",
      "  rule = ((df < (Q1 - 1.5 * (Q3 - Q1))) | (df > (Q3 + 1.5 *(Q3 -Q1))))\n",
      "C:\\Users\\Chad\\AppData\\Local\\Temp\\ipykernel_20764\\2724871986.py:20: FutureWarning: Dropping of nuisance columns in DataFrame reductions (with 'numeric_only=None') is deprecated; in a future version this will raise TypeError.  Select only valid columns before calling the reduction.\n",
      "  df.skew()\n"
     ]
    },
    {
     "data": {
      "text/plain": [
       "Unnamed: 0          -0.024627\n",
       "Danceability        -0.554416\n",
       "Energy              -0.727934\n",
       "Key                 -0.002342\n",
       "Loudness            -2.797320\n",
       "Speechiness          3.077427\n",
       "Acousticness         0.915316\n",
       "Instrumentalness     3.772123\n",
       "Liveness             2.335986\n",
       "Valence             -0.092880\n",
       "Tempo                0.387777\n",
       "Duration_ms          1.195004\n",
       "Views                9.070239\n",
       "Likes                8.573440\n",
       "Comments            42.729724\n",
       "Licensed            -0.950991\n",
       "official_video      -1.454562\n",
       "Stream               4.054457\n",
       "dtype: float64"
      ]
     },
     "execution_count": 2,
     "metadata": {},
     "output_type": "execute_result"
    }
   ],
   "source": [
    "#random forest\n",
    "import pandas as pd\n",
    "import numpy as np\n",
    "from sklearn.ensemble import RandomForestRegressor\n",
    "from sklearn.model_selection import train_test_split\n",
    "from sklearn.metrics import mean_squared_error, r2_score\n",
    "\n",
    "# Load the dataset\n",
    "df = pd.read_csv('cleaneddf.csv')\n"
   ]
  },
  {
   "cell_type": "code",
   "execution_count": 3,
   "id": "c3552e81",
   "metadata": {},
   "outputs": [
    {
     "name": "stdout",
     "output_type": "stream",
     "text": [
      "Mean squared error: 197732548760391360.00\n",
      "Coefficient of determination: 0.18\n"
     ]
    }
   ],
   "source": [
    "\n",
    "X = df[['Danceability', 'Energy', 'Speechiness', 'Acousticness', 'Instrumentalness', 'Liveness', 'Valence', 'Tempo']]\n",
    "y = df['Likes'] + df['Views'] + df['Comments']+df['Stream']\n",
    "\n",
    "# Split into train and test sets\n",
    "X_train, X_test, y_train, y_test = train_test_split(X, y, test_size=0.2, random_state=42)\n",
    "\n",
    "# Fit the model\n",
    "rf = RandomForestRegressor(n_estimators=100, random_state=42).fit(X_train, y_train)\n",
    "\n",
    "# Predict on test set\n",
    "y_pred = rf.predict(X_test)\n",
    "\n",
    "# Evaluate the model\n",
    "print('Mean squared error: %.2f' % mean_squared_error(y_test, y_pred))\n",
    "print('Coefficient of determination: %.2f' % r2_score(y_test, y_pred))"
   ]
  },
  {
   "cell_type": "markdown",
   "id": "68a38315",
   "metadata": {},
   "source": [
    "### In this case, the low R-squared value suggests that the random forest model is not able to explain a significant amount of the variability in the outcome variable"
   ]
  },
  {
   "cell_type": "code",
   "execution_count": null,
   "id": "262cde26",
   "metadata": {},
   "outputs": [],
   "source": []
  }
 ],
 "metadata": {
  "kernelspec": {
   "display_name": "Python 3 (ipykernel)",
   "language": "python",
   "name": "python3"
  },
  "language_info": {
   "codemirror_mode": {
    "name": "ipython",
    "version": 3
   },
   "file_extension": ".py",
   "mimetype": "text/x-python",
   "name": "python",
   "nbconvert_exporter": "python",
   "pygments_lexer": "ipython3",
   "version": "3.9.13"
  }
 },
 "nbformat": 4,
 "nbformat_minor": 5
}
